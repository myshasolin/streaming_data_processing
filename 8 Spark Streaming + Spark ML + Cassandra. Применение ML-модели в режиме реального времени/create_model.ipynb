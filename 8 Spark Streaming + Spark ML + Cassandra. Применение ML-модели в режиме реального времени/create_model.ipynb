{
 "cells": [
  {
   "cell_type": "markdown",
   "id": "41ccd715-cd40-4ba4-8d4e-168dc42f6612",
   "metadata": {},
   "source": [
    "Датасет взял с Kaggle ([ссылка](https://www.kaggle.com/datasets/rkiattisak/salaly-prediction-for-beginer)). Перед нами задача регресси с предсказанием зарплаты.\n",
    "\n",
    "В датасете есть такие столбцы:\n",
    "\n",
    "- ```Age``` - возраст\n",
    "- ```Gender``` - пол\n",
    "- ```Education Level``` - уровень образования\n",
    "- ```Job Title``` -должность\n",
    "- ```Years of Experience``` - стаж в годах\n",
    "- ```Salary``` - зарплата"
   ]
  },
  {
   "cell_type": "markdown",
   "id": "e0c11df6-3417-410b-9d1d-1e1e9738148b",
   "metadata": {},
   "source": [
    "импортируем все необходимые библиотеки:"
   ]
  },
  {
   "cell_type": "code",
   "execution_count": 1,
   "id": "5fecb0b5-1c08-43d1-bc73-d3651e032e67",
   "metadata": {},
   "outputs": [],
   "source": [
    "from pyspark.sql import SparkSession\n",
    "from pyspark.sql import functions as F\n",
    "from pyspark.sql.types import *\n",
    "from pyspark.ml.feature import StringIndexer, VectorAssembler, OneHotEncoder\n",
    "from pyspark.ml import Pipeline\n",
    "from pyspark.ml.regression import LinearRegression, RandomForestRegressor, GBTRegressor\n",
    "from pyspark.ml.evaluation import RegressionEvaluator\n",
    "from pyspark.ml.tuning import ParamGridBuilder, CrossValidator\n",
    "import pandas as pd\n",
    "import subprocess"
   ]
  },
  {
   "cell_type": "markdown",
   "id": "75f275f1-131d-49d3-9f11-e8739b85fc20",
   "metadata": {},
   "source": [
    "открываем сессию, скачиваем датасет и смотрим на него:"
   ]
  },
  {
   "cell_type": "code",
   "execution_count": 2,
   "id": "4fe4deff-772a-4fcc-a8cb-52ebdaeee688",
   "metadata": {},
   "outputs": [
    {
     "name": "stdout",
     "output_type": "stream",
     "text": [
      "23/09/09 13:18:32 WARN Utils: Your hostname, mysha-Inspiron-11-3147 resolves to a loopback address: 127.0.1.1; using 192.168.1.75 instead (on interface wlp1s0)\n"
     ]
    },
    {
     "name": "stderr",
     "output_type": "stream",
     "text": [
      "Ivy Default Cache set to: /root/.ivy2/cache\n"
     ]
    }
   ],
   "source": [
    "spark = SparkSession.builder \\\n",
    "    .appName('create_model') \\\n",
    "    .config('spark.executor.instances', 4) \\\n",
    "    .getOrCreate()"
   ]
  },
  {
   "cell_type": "code",
   "execution_count": 3,
   "id": "dc547c27-24a3-41c3-a896-30d57b7ff189",
   "metadata": {},
   "outputs": [
    {
     "name": "stdout",
     "output_type": "stream",
     "text": [
      "root\n",
      " |-- Age: double (nullable = true)\n",
      " |-- Gender: string (nullable = true)\n",
      " |-- Education Level: string (nullable = true)\n",
      " |-- Job Title: string (nullable = true)\n",
      " |-- Years of Experience: double (nullable = true)\n",
      " |-- Salary: double (nullable = true)\n",
      "\n"
     ]
    }
   ],
   "source": [
    "df = spark.read.csv('/mysha/dz8/salary_data.csv', header=True, inferSchema=True)\n",
    "df.printSchema()"
   ]
  },
  {
   "cell_type": "code",
   "execution_count": 4,
   "id": "d29815dc-7650-4270-80e7-ffd40e8d5c6e",
   "metadata": {},
   "outputs": [
    {
     "name": "stdout",
     "output_type": "stream",
     "text": [
      "+-------+-----------------+------+---------------+---------------+-------------------+------------------+\n",
      "|summary|              Age|Gender|Education Level|      Job Title|Years of Experience|            Salary|\n",
      "+-------+-----------------+------+---------------+---------------+-------------------+------------------+\n",
      "|  count|              373|   373|            373|            373|                373|               373|\n",
      "|   mean|37.43163538873995|  null|           null|           null|  10.03083109919571|100577.34584450402|\n",
      "| stddev|7.069072938567491|  null|           null|           null|  6.557007136414239|48240.013481882655|\n",
      "|    min|             23.0|Female|     Bachelor's|Account Manager|                0.0|             350.0|\n",
      "|    max|             53.0|  Male|            PhD|  Web Developer|               25.0|          250000.0|\n",
      "+-------+-----------------+------+---------------+---------------+-------------------+------------------+\n",
      "\n"
     ]
    }
   ],
   "source": [
    "df.describe().show()"
   ]
  },
  {
   "cell_type": "markdown",
   "id": "0740cbd1-eca4-46ad-b004-bc9d6a541137",
   "metadata": {},
   "source": [
    "добавим в датасет два новых признака и переименуем ```Salary``` в ```label```:\n",
    "- ```Age Group``` - категория возраста, сделаем их три\n",
    "- ```Title Length``` - длина строки названия должности, а что, вдруг найдётся какая-то взаимосвязь\n",
    "\n",
    "посмотрим на результат:"
   ]
  },
  {
   "cell_type": "code",
   "execution_count": 5,
   "id": "32151dfb-553f-408f-94e5-0732b31b3a85",
   "metadata": {},
   "outputs": [
    {
     "name": "stdout",
     "output_type": "stream",
     "text": [
      "+----+------+---------------+-----------------+-------------------+--------+---------+------------+\n",
      "| Age|Gender|Education Level|        Job Title|Years of Experience|   label|Age Group|Title Length|\n",
      "+----+------+---------------+-----------------+-------------------+--------+---------+------------+\n",
      "|32.0|  Male|     Bachelor's|Software Engineer|                5.0| 90000.0|   midage|          17|\n",
      "|28.0|Female|       Master's|     Data Analyst|                3.0| 65000.0|    young|          12|\n",
      "|45.0|  Male|            PhD|   Senior Manager|               15.0|150000.0|   midage|          14|\n",
      "+----+------+---------------+-----------------+-------------------+--------+---------+------------+\n",
      "only showing top 3 rows\n",
      "\n"
     ]
    }
   ],
   "source": [
    "# новый признак - три категории возрастов\n",
    "df = df.withColumn('Age Group', F.when(df['Age'] <= 30, 'young')\n",
    "                               .when((df['Age'] > 30) & (df['Age'] <= 45), 'midage')\n",
    "                               .otherwise('odl'))\n",
    "\n",
    "# новый признак - количество символов в названии должности\n",
    "df = df.withColumn('Title Length', F.length(df['Job Title']))\n",
    "\n",
    "df = df.withColumnRenamed(\"Salary\", \"label\")\n",
    "df.show(3)"
   ]
  },
  {
   "cell_type": "markdown",
   "id": "412d347d-80db-42df-beae-34691c3d014b",
   "metadata": {},
   "source": [
    "делим датасет на train и test для поиска лучших гиперпараметров по сетке, а для итогового обучения модели создадим копию датафрейма ```save_df```, на нём сделаем финальный фит модели со всеми трансформациями для сохранения её ф директорию на HDFS:"
   ]
  },
  {
   "cell_type": "code",
   "execution_count": 6,
   "id": "f42a09f6-930d-4adf-8b98-8f91aecea0a4",
   "metadata": {},
   "outputs": [
    {
     "name": "stdout",
     "output_type": "stream",
     "text": [
      "+----+------+---------------+----------------+-------------------+-------+---------+------------+\n",
      "| Age|Gender|Education Level|       Job Title|Years of Experience|  label|Age Group|Title Length|\n",
      "+----+------+---------------+----------------+-------------------+-------+---------+------------+\n",
      "|24.0|  Male|     Bachelor's|Junior Developer|                1.0|40000.0|    young|          16|\n",
      "|25.0|Female|     Bachelor's|Data Entry Clerk|                0.0|35000.0|    young|          16|\n",
      "+----+------+---------------+----------------+-------------------+-------+---------+------------+\n",
      "only showing top 2 rows\n",
      "\n"
     ]
    }
   ],
   "source": [
    "train, test = df.randomSplit([0.7, 0.3], seed=0)\n",
    "save_df = train.alias(\"save_df\")\n",
    "save_df.show(2)"
   ]
  },
  {
   "cell_type": "markdown",
   "id": "c5142ee8-ecd5-4f8e-a10d-f505dc2c704f",
   "metadata": {},
   "source": [
    "во так будем преобразовывать данные в пайплайне - создадим ```features``` - вектор с трансформированными категориальными и числовыми признаками. А все шаги трансформаций сохраним в ```stages```\n",
    "\n",
    "*handleInvalid='keep'* в *StringIndexer* нужен на тот случай, если *StringIndexer* обнаружит какие-то новые данные и не будет знать, как их обработать. Так код не будет падать:"
   ]
  },
  {
   "cell_type": "code",
   "execution_count": 7,
   "id": "30d2b2fc-c60e-4648-a85f-e16bc10d4cbc",
   "metadata": {},
   "outputs": [
    {
     "data": {
      "text/html": [
       "<div>\n",
       "<style scoped>\n",
       "    .dataframe tbody tr th:only-of-type {\n",
       "        vertical-align: middle;\n",
       "    }\n",
       "\n",
       "    .dataframe tbody tr th {\n",
       "        vertical-align: top;\n",
       "    }\n",
       "\n",
       "    .dataframe thead th {\n",
       "        text-align: right;\n",
       "    }\n",
       "</style>\n",
       "<table border=\"1\" class=\"dataframe\">\n",
       "  <thead>\n",
       "    <tr style=\"text-align: right;\">\n",
       "      <th></th>\n",
       "      <th>0</th>\n",
       "      <th>1</th>\n",
       "      <th>2</th>\n",
       "      <th>3</th>\n",
       "      <th>4</th>\n",
       "    </tr>\n",
       "  </thead>\n",
       "  <tbody>\n",
       "    <tr>\n",
       "      <th>Age</th>\n",
       "      <td>24.0</td>\n",
       "      <td>25.0</td>\n",
       "      <td>25.0</td>\n",
       "      <td>25.0</td>\n",
       "      <td>26.0</td>\n",
       "    </tr>\n",
       "    <tr>\n",
       "      <th>Gender</th>\n",
       "      <td>Male</td>\n",
       "      <td>Female</td>\n",
       "      <td>Female</td>\n",
       "      <td>Male</td>\n",
       "      <td>Female</td>\n",
       "    </tr>\n",
       "    <tr>\n",
       "      <th>Education Level</th>\n",
       "      <td>Bachelor's</td>\n",
       "      <td>Bachelor's</td>\n",
       "      <td>Master's</td>\n",
       "      <td>Bachelor's</td>\n",
       "      <td>Bachelor's</td>\n",
       "    </tr>\n",
       "    <tr>\n",
       "      <th>Job Title</th>\n",
       "      <td>Junior Developer</td>\n",
       "      <td>Data Entry Clerk</td>\n",
       "      <td>Junior Marketing Specialist</td>\n",
       "      <td>Sales Representative</td>\n",
       "      <td>Customer Success Rep</td>\n",
       "    </tr>\n",
       "    <tr>\n",
       "      <th>Years of Experience</th>\n",
       "      <td>1.0</td>\n",
       "      <td>0.0</td>\n",
       "      <td>1.5</td>\n",
       "      <td>0.0</td>\n",
       "      <td>1.0</td>\n",
       "    </tr>\n",
       "    <tr>\n",
       "      <th>label</th>\n",
       "      <td>40000.0</td>\n",
       "      <td>35000.0</td>\n",
       "      <td>40000.0</td>\n",
       "      <td>30000.0</td>\n",
       "      <td>40000.0</td>\n",
       "    </tr>\n",
       "    <tr>\n",
       "      <th>Age Group</th>\n",
       "      <td>young</td>\n",
       "      <td>young</td>\n",
       "      <td>young</td>\n",
       "      <td>young</td>\n",
       "      <td>young</td>\n",
       "    </tr>\n",
       "    <tr>\n",
       "      <th>Title Length</th>\n",
       "      <td>16</td>\n",
       "      <td>16</td>\n",
       "      <td>27</td>\n",
       "      <td>20</td>\n",
       "      <td>20</td>\n",
       "    </tr>\n",
       "    <tr>\n",
       "      <th>Gender_Index</th>\n",
       "      <td>0.0</td>\n",
       "      <td>1.0</td>\n",
       "      <td>1.0</td>\n",
       "      <td>0.0</td>\n",
       "      <td>1.0</td>\n",
       "    </tr>\n",
       "    <tr>\n",
       "      <th>Gender_classVec</th>\n",
       "      <td>(1.0, 0.0)</td>\n",
       "      <td>(0.0, 1.0)</td>\n",
       "      <td>(0.0, 1.0)</td>\n",
       "      <td>(1.0, 0.0)</td>\n",
       "      <td>(0.0, 1.0)</td>\n",
       "    </tr>\n",
       "    <tr>\n",
       "      <th>Education Level_Index</th>\n",
       "      <td>0.0</td>\n",
       "      <td>0.0</td>\n",
       "      <td>1.0</td>\n",
       "      <td>0.0</td>\n",
       "      <td>0.0</td>\n",
       "    </tr>\n",
       "    <tr>\n",
       "      <th>Education Level_classVec</th>\n",
       "      <td>(1.0, 0.0, 0.0)</td>\n",
       "      <td>(1.0, 0.0, 0.0)</td>\n",
       "      <td>(0.0, 1.0, 0.0)</td>\n",
       "      <td>(1.0, 0.0, 0.0)</td>\n",
       "      <td>(1.0, 0.0, 0.0)</td>\n",
       "    </tr>\n",
       "    <tr>\n",
       "      <th>Job Title_Index</th>\n",
       "      <td>87.0</td>\n",
       "      <td>66.0</td>\n",
       "      <td>39.0</td>\n",
       "      <td>110.0</td>\n",
       "      <td>65.0</td>\n",
       "    </tr>\n",
       "    <tr>\n",
       "      <th>Job Title_classVec</th>\n",
       "      <td>(0.0, 0.0, 0.0, 0.0, 0.0, 0.0, 0.0, 0.0, 0.0, ...</td>\n",
       "      <td>(0.0, 0.0, 0.0, 0.0, 0.0, 0.0, 0.0, 0.0, 0.0, ...</td>\n",
       "      <td>(0.0, 0.0, 0.0, 0.0, 0.0, 0.0, 0.0, 0.0, 0.0, ...</td>\n",
       "      <td>(0.0, 0.0, 0.0, 0.0, 0.0, 0.0, 0.0, 0.0, 0.0, ...</td>\n",
       "      <td>(0.0, 0.0, 0.0, 0.0, 0.0, 0.0, 0.0, 0.0, 0.0, ...</td>\n",
       "    </tr>\n",
       "    <tr>\n",
       "      <th>Age Group_Index</th>\n",
       "      <td>1.0</td>\n",
       "      <td>1.0</td>\n",
       "      <td>1.0</td>\n",
       "      <td>1.0</td>\n",
       "      <td>1.0</td>\n",
       "    </tr>\n",
       "    <tr>\n",
       "      <th>Age Group_classVec</th>\n",
       "      <td>(0.0, 1.0, 0.0)</td>\n",
       "      <td>(0.0, 1.0, 0.0)</td>\n",
       "      <td>(0.0, 1.0, 0.0)</td>\n",
       "      <td>(0.0, 1.0, 0.0)</td>\n",
       "      <td>(0.0, 1.0, 0.0)</td>\n",
       "    </tr>\n",
       "    <tr>\n",
       "      <th>features</th>\n",
       "      <td>(1.0, 0.0, 1.0, 0.0, 0.0, 0.0, 0.0, 0.0, 0.0, ...</td>\n",
       "      <td>(0.0, 1.0, 1.0, 0.0, 0.0, 0.0, 0.0, 0.0, 0.0, ...</td>\n",
       "      <td>(0.0, 1.0, 0.0, 1.0, 0.0, 0.0, 0.0, 0.0, 0.0, ...</td>\n",
       "      <td>(1.0, 0.0, 1.0, 0.0, 0.0, 0.0, 0.0, 0.0, 0.0, ...</td>\n",
       "      <td>(0.0, 1.0, 1.0, 0.0, 0.0, 0.0, 0.0, 0.0, 0.0, ...</td>\n",
       "    </tr>\n",
       "  </tbody>\n",
       "</table>\n",
       "</div>"
      ],
      "text/plain": [
       "                                                                          0  \\\n",
       "Age                                                                    24.0   \n",
       "Gender                                                                 Male   \n",
       "Education Level                                                  Bachelor's   \n",
       "Job Title                                                  Junior Developer   \n",
       "Years of Experience                                                     1.0   \n",
       "label                                                               40000.0   \n",
       "Age Group                                                             young   \n",
       "Title Length                                                             16   \n",
       "Gender_Index                                                            0.0   \n",
       "Gender_classVec                                                  (1.0, 0.0)   \n",
       "Education Level_Index                                                   0.0   \n",
       "Education Level_classVec                                    (1.0, 0.0, 0.0)   \n",
       "Job Title_Index                                                        87.0   \n",
       "Job Title_classVec        (0.0, 0.0, 0.0, 0.0, 0.0, 0.0, 0.0, 0.0, 0.0, ...   \n",
       "Age Group_Index                                                         1.0   \n",
       "Age Group_classVec                                          (0.0, 1.0, 0.0)   \n",
       "features                  (1.0, 0.0, 1.0, 0.0, 0.0, 0.0, 0.0, 0.0, 0.0, ...   \n",
       "\n",
       "                                                                          1  \\\n",
       "Age                                                                    25.0   \n",
       "Gender                                                               Female   \n",
       "Education Level                                                  Bachelor's   \n",
       "Job Title                                                  Data Entry Clerk   \n",
       "Years of Experience                                                     0.0   \n",
       "label                                                               35000.0   \n",
       "Age Group                                                             young   \n",
       "Title Length                                                             16   \n",
       "Gender_Index                                                            1.0   \n",
       "Gender_classVec                                                  (0.0, 1.0)   \n",
       "Education Level_Index                                                   0.0   \n",
       "Education Level_classVec                                    (1.0, 0.0, 0.0)   \n",
       "Job Title_Index                                                        66.0   \n",
       "Job Title_classVec        (0.0, 0.0, 0.0, 0.0, 0.0, 0.0, 0.0, 0.0, 0.0, ...   \n",
       "Age Group_Index                                                         1.0   \n",
       "Age Group_classVec                                          (0.0, 1.0, 0.0)   \n",
       "features                  (0.0, 1.0, 1.0, 0.0, 0.0, 0.0, 0.0, 0.0, 0.0, ...   \n",
       "\n",
       "                                                                          2  \\\n",
       "Age                                                                    25.0   \n",
       "Gender                                                               Female   \n",
       "Education Level                                                    Master's   \n",
       "Job Title                                       Junior Marketing Specialist   \n",
       "Years of Experience                                                     1.5   \n",
       "label                                                               40000.0   \n",
       "Age Group                                                             young   \n",
       "Title Length                                                             27   \n",
       "Gender_Index                                                            1.0   \n",
       "Gender_classVec                                                  (0.0, 1.0)   \n",
       "Education Level_Index                                                   1.0   \n",
       "Education Level_classVec                                    (0.0, 1.0, 0.0)   \n",
       "Job Title_Index                                                        39.0   \n",
       "Job Title_classVec        (0.0, 0.0, 0.0, 0.0, 0.0, 0.0, 0.0, 0.0, 0.0, ...   \n",
       "Age Group_Index                                                         1.0   \n",
       "Age Group_classVec                                          (0.0, 1.0, 0.0)   \n",
       "features                  (0.0, 1.0, 0.0, 1.0, 0.0, 0.0, 0.0, 0.0, 0.0, ...   \n",
       "\n",
       "                                                                          3  \\\n",
       "Age                                                                    25.0   \n",
       "Gender                                                                 Male   \n",
       "Education Level                                                  Bachelor's   \n",
       "Job Title                                              Sales Representative   \n",
       "Years of Experience                                                     0.0   \n",
       "label                                                               30000.0   \n",
       "Age Group                                                             young   \n",
       "Title Length                                                             20   \n",
       "Gender_Index                                                            0.0   \n",
       "Gender_classVec                                                  (1.0, 0.0)   \n",
       "Education Level_Index                                                   0.0   \n",
       "Education Level_classVec                                    (1.0, 0.0, 0.0)   \n",
       "Job Title_Index                                                       110.0   \n",
       "Job Title_classVec        (0.0, 0.0, 0.0, 0.0, 0.0, 0.0, 0.0, 0.0, 0.0, ...   \n",
       "Age Group_Index                                                         1.0   \n",
       "Age Group_classVec                                          (0.0, 1.0, 0.0)   \n",
       "features                  (1.0, 0.0, 1.0, 0.0, 0.0, 0.0, 0.0, 0.0, 0.0, ...   \n",
       "\n",
       "                                                                          4  \n",
       "Age                                                                    26.0  \n",
       "Gender                                                               Female  \n",
       "Education Level                                                  Bachelor's  \n",
       "Job Title                                              Customer Success Rep  \n",
       "Years of Experience                                                     1.0  \n",
       "label                                                               40000.0  \n",
       "Age Group                                                             young  \n",
       "Title Length                                                             20  \n",
       "Gender_Index                                                            1.0  \n",
       "Gender_classVec                                                  (0.0, 1.0)  \n",
       "Education Level_Index                                                   0.0  \n",
       "Education Level_classVec                                    (1.0, 0.0, 0.0)  \n",
       "Job Title_Index                                                        65.0  \n",
       "Job Title_classVec        (0.0, 0.0, 0.0, 0.0, 0.0, 0.0, 0.0, 0.0, 0.0, ...  \n",
       "Age Group_Index                                                         1.0  \n",
       "Age Group_classVec                                          (0.0, 1.0, 0.0)  \n",
       "features                  (0.0, 1.0, 1.0, 0.0, 0.0, 0.0, 0.0, 0.0, 0.0, ...  "
      ]
     },
     "execution_count": 7,
     "metadata": {},
     "output_type": "execute_result"
    }
   ],
   "source": [
    "numCols = ['Age', 'Years of Experience', 'Title Length']\n",
    "catCols = ['Gender', 'Education Level', 'Job Title', 'Age Group']\n",
    "\n",
    "stages = []\n",
    "for c in catCols:\n",
    "    st = StringIndexer(inputCol=c, outputCol=c+'_Index', handleInvalid='keep')\n",
    "    encoder = OneHotEncoder(inputCols=[st.getOutputCol()], outputCols=[c+'_classVec'])\n",
    "    stages += [st, encoder]\n",
    "    \n",
    "assemblerInputs = [i+'_classVec' for i in catCols] + numCols\n",
    "assembler = VectorAssembler(inputCols=assemblerInputs, outputCol='features')\n",
    "stages += [assembler]\n",
    "\n",
    "pipeline = Pipeline(stages=stages)\n",
    "pipelineModel = pipeline.fit(train)\n",
    "\n",
    "pipelineModel.write().overwrite().save(\"/mysha/dz8/pipelineModel\")\n",
    "\n",
    "train = pipelineModel.transform(train)\n",
    "test = pipelineModel.transform(test)\n",
    "\n",
    "pd.DataFrame(train.take(5), columns=train.columns).T"
   ]
  },
  {
   "cell_type": "code",
   "execution_count": 8,
   "id": "635ea1a4-85bf-4047-9778-bee7f40b248a",
   "metadata": {},
   "outputs": [
    {
     "name": "stdout",
     "output_type": "stream",
     "text": [
      "+-------+--------------------+------+---------------+--------------------+---------+----+-------------------+------------+\n",
      "|  label|            features|Gender|Education Level|           Job Title|Age Group| Age|Years of Experience|Title Length|\n",
      "+-------+--------------------+------+---------------+--------------------+---------+----+-------------------+------------+\n",
      "|40000.0|(153,[0,2,92,148,...|  Male|     Bachelor's|    Junior Developer|    young|24.0|                1.0|          16|\n",
      "|35000.0|(153,[1,2,71,148,...|Female|     Bachelor's|    Data Entry Clerk|    young|25.0|                0.0|          16|\n",
      "|40000.0|(153,[1,3,44,148,...|Female|       Master's|Junior Marketing ...|    young|25.0|                1.5|          27|\n",
      "+-------+--------------------+------+---------------+--------------------+---------+----+-------------------+------------+\n",
      "only showing top 3 rows\n",
      "\n"
     ]
    }
   ],
   "source": [
    "selectedCols = ['label', 'features'] + catCols + numCols\n",
    "train.select(selectedCols).show(3)"
   ]
  },
  {
   "cell_type": "markdown",
   "id": "75ace7da-bf70-49c7-9f78-78a044d33d96",
   "metadata": {},
   "source": [
    "самописная функция ```get_model``` принимает алгоритм и в кросс-валидации по сетке параметров выбирает лучшие по значению MAE, пересоздаёт пайплайн, обучает модель и сохраняет обученную модель в именную папку на HDFS:"
   ]
  },
  {
   "cell_type": "code",
   "execution_count": 9,
   "id": "083b51eb-bf19-47ef-a8b9-25834e62be72",
   "metadata": {},
   "outputs": [],
   "source": [
    "def get_model(ml, grid, evaluator, folderName, stages=stages, train=train, test=test, save_df=save_df):\n",
    "    \n",
    "    cv = CrossValidator(estimator=ml, estimatorParamMaps=grid, evaluator=evaluator)\n",
    "    model = cv.fit(train)\n",
    "\n",
    "    bestModel = model.bestModel\n",
    "    \n",
    "    train_predictions = model.transform(train)\n",
    "    test_predictions = model.transform(test)\n",
    "    print(f'модель {folderName}')\n",
    "    print(f'MAE на тренировочной выборке = {evaluator.evaluate(bestModel.transform(train))}')\n",
    "    print(f'MAE на тестовой выборке = {evaluator.evaluate(bestModel.transform(test))}')\n",
    "    try:\n",
    "        subprocess.call(['hdfs', 'dfs', '-mkdir', f'/mysha/dz8/model_{folderName}'])\n",
    "        subprocess.call(['hdfs', 'dfs', '-rm', '-r', '-f', '-skipTrash', f'/mysha/dz8/model_{folderName}/*'])\n",
    "        stages += [bestModel]\n",
    "        pipeline = Pipeline(stages=stages)\n",
    "        save_model = pipeline.fit(save_df)\n",
    "        save_model.write().overwrite().save(f'/mysha/dz8/model_{folderName}')\n",
    "        print(f\"модель сохранена на HDFS в директорию: '/mysha/dz8/model_{folderName}'\")\n",
    "    except:\n",
    "        print('что-то пошло не так')"
   ]
  },
  {
   "cell_type": "markdown",
   "id": "e30e6cac-a99a-4b17-a718-12794e746a01",
   "metadata": {},
   "source": [
    "переберём три алгоритма. Все три обучанные модели сохраним, а использовать в дальнейшем будет лучшую по MAE на тестовой выборке:"
   ]
  },
  {
   "cell_type": "code",
   "execution_count": 10,
   "id": "81523ca9-7ad6-469a-a06a-4904c4b7a368",
   "metadata": {},
   "outputs": [
    {
     "name": "stdout",
     "output_type": "stream",
     "text": [
      "модель LinearRegression\n",
      "MAE на тренировочной выборке = 3347.3892690685316\n",
      "MAE на тестовой выборке = 13582.545809830764\n",
      "модель сохранена на HDFS в директорию: '/mysha/dz8/model_LinearRegression'\n",
      "CPU times: user 3.59 s, sys: 1.15 s, total: 4.75 s\n",
      "Wall time: 1min 51s\n"
     ]
    }
   ],
   "source": [
    "%%time\n",
    "evaluator = RegressionEvaluator(metricName='mae')\n",
    "\n",
    "lr = LinearRegression()\n",
    "paramGrid = ParamGridBuilder() \\\n",
    "    .addGrid(lr.regParam, [0.01, 0.1, 1.0]) \\\n",
    "    .addGrid(lr.elasticNetParam, [0.0, 0.5, 1.0]) \\\n",
    "    .build()\n",
    "\n",
    "get_model(lr, paramGrid, evaluator, 'LinearRegression')"
   ]
  },
  {
   "cell_type": "code",
   "execution_count": 11,
   "id": "0606fbfc-6338-43dd-8005-a2b25c576534",
   "metadata": {},
   "outputs": [
    {
     "name": "stdout",
     "output_type": "stream",
     "text": [
      "модель RandomForestRegressor\n",
      "MAE на тренировочной выборке = 3904.9648227237863\n",
      "MAE на тестовой выборке = 9580.307245477587\n",
      "модель сохранена на HDFS в директорию: '/mysha/dz8/model_RandomForestRegressor'\n",
      "CPU times: user 34.7 s, sys: 11.3 s, total: 45.9 s\n",
      "Wall time: 10min 11s\n"
     ]
    }
   ],
   "source": [
    "%%time\n",
    "rf = RandomForestRegressor()\n",
    "\n",
    "paramGrid = ParamGridBuilder() \\\n",
    "    .addGrid(rf.numTrees, [10, 20, 30]) \\\n",
    "    .addGrid(rf.maxDepth, [5, 10, 15]) \\\n",
    "    .addGrid(rf.minInstancesPerNode, [1, 5, 10]) \\\n",
    "    .addGrid(rf.featureSubsetStrategy, ['auto', 'sqrt', 'log2']) \\\n",
    "    .build()\n",
    "\n",
    "get_model(rf, paramGrid, evaluator, 'RandomForestRegressor')"
   ]
  },
  {
   "cell_type": "code",
   "execution_count": 12,
   "id": "1a60f322-32c1-4d08-bbe9-71a0b6afa705",
   "metadata": {},
   "outputs": [
    {
     "name": "stdout",
     "output_type": "stream",
     "text": [
      "модель GBTRegressor\n",
      "MAE на тренировочной выборке = 177.2288715811082\n",
      "MAE на тестовой выборке = 11977.694564979498\n",
      "модель сохранена на HDFS в директорию: '/mysha/dz8/model_GBTRegressor'\n",
      "CPU times: user 42.2 s, sys: 14.4 s, total: 56.6 s\n",
      "Wall time: 2h 8min 58s\n"
     ]
    }
   ],
   "source": [
    "%%time\n",
    "gbt = GBTRegressor()\n",
    "\n",
    "paramGrid = ParamGridBuilder() \\\n",
    "    .addGrid(gbt.maxIter, [10, 20, 30]) \\\n",
    "    .addGrid(gbt.maxDepth, [5, 10, 15]) \\\n",
    "    .addGrid(gbt.stepSize, [0.1, 0.01, 0.001]) \\\n",
    "    .addGrid(gbt.subsamplingRate, [0.5, 0.75, 1.0]) \\\n",
    "    .build()\n",
    "\n",
    "get_model(gbt, paramGrid, evaluator, 'GBTRegressor')"
   ]
  },
  {
   "cell_type": "markdown",
   "id": "ad7d22d0-6991-4876-b859-50dcd32fee3c",
   "metadata": {},
   "source": [
    "лучше всех мнбя показал лес, его и будем использовать. А пока закроем сессию:"
   ]
  },
  {
   "cell_type": "code",
   "execution_count": 13,
   "id": "b689f226-83c1-4bdb-aeec-9f9ecfc3c30a",
   "metadata": {},
   "outputs": [],
   "source": [
    "spark.stop()"
   ]
  },
  {
   "cell_type": "markdown",
   "id": "81e4572b-99dc-4621-be5e-a12662b5695b",
   "metadata": {},
   "source": [
    "_____"
   ]
  }
 ],
 "metadata": {
  "kernelspec": {
   "display_name": "Python 3 (ipykernel)",
   "language": "python",
   "name": "python3"
  },
  "language_info": {
   "codemirror_mode": {
    "name": "ipython",
    "version": 3
   },
   "file_extension": ".py",
   "mimetype": "text/x-python",
   "name": "python",
   "nbconvert_exporter": "python",
   "pygments_lexer": "ipython3",
   "version": "3.9.18"
  }
 },
 "nbformat": 4,
 "nbformat_minor": 5
}
